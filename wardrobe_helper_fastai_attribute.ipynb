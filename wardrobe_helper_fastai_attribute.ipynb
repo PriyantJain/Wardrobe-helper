{
  "cells": [
    {
      "cell_type": "markdown",
      "source": [
        "#Load Data\n",
        "We have data from MMLLAB DeepFashion 1 attribute prediction dataset\n",
        "It has 1000 attribute classes with each image having multiple labels from different attribute classes\n",
        "\n",
        "We have data as zip file in drie we are extracting it here\n",
        "We have labels as column adjacency list which we are converting to complete binary multi label encoding and creating dataloaders"
      ],
      "metadata": {
        "id": "nEuTqgG_yppZ"
      }
    },
    {
      "cell_type": "code",
      "execution_count": 2,
      "metadata": {
        "id": "ERugQmFDG0jH"
      },
      "outputs": [],
      "source": [
        "from zipfile import ZipFile\n",
        "with ZipFile('/content/drive/MyDrive/data/wardrobe_helper_data/Category and Attribute Prediction Benchmark/Img/img.zip', 'r') as archive:\n",
        "  archive.extractall('/content/wardrobe_img')"
      ]
    },
    {
      "cell_type": "code",
      "execution_count": 3,
      "metadata": {
        "colab": {
          "base_uri": "https://localhost:8080/"
        },
        "id": "RrcVTkHSD_dg",
        "outputId": "4e980626-d329-41fc-8a03-06d0fedaa0cb"
      },
      "outputs": [
        {
          "output_type": "stream",
          "name": "stdout",
          "text": [
            "cuda\n",
            "dataloaders\n"
          ]
        }
      ],
      "source": [
        "if __name__ == '__main__' :   \n",
        "    from fastai.vision.all import *\n",
        "    # from timeit import default_timer\n",
        "    # import torch\n",
        "    # import torchvision\n",
        "    # from torchvision import transforms\n",
        "    import os, multiprocessing\n",
        "    import pandas as pd\n",
        "\n",
        "# do define multiprocessing related things in this 'if' block\n",
        "\n",
        "    multiprocessing.freeze_support()            # needed for handling multiprocessing \n",
        "    \n",
        "    device = 'cuda' if torch.cuda.is_available() else 'cpu'         # setting up device\n",
        "    print(device)\n",
        "    \n",
        "    drive = r'/content/drive/MyDrive/data/wardrobe_helper_data/'\n",
        "    ###################################################\n",
        "    ########### reading up labels from disk ############\n",
        "    ##################################################\n",
        "    \n",
        "    ## reading file containing attribute names\n",
        "    desc = pd.read_csv(drive + r'Anno_coarse/list_attr_cloth.txt', skiprows = 2, header = None)\n",
        "    desc = desc.iloc[:,0].str.extract('(.*)[ ]{2,}([12345])')\n",
        "    \n",
        "    ## generating boolean dataframe of labels from compressed representation\n",
        "    labels = pd.DataFrame(False,                                                                            # initializing all labels as False\n",
        "                          columns = desc.iloc[:, 0].str.strip().values,                                     # setting column names as attribute names\n",
        "                          index = pd.read_csv(drive + 'attribute_labels_index.csv', header = None).iloc[:, 0])      # setting indexes as img names\n",
        "    \n",
        "    # In 'attribute_labels_colwise.csv' each row 'i' contains list of row numbers\n",
        "    # which will be 'true' in 'labels' df in column 'i'\n",
        "    for column_num_labels, row in pd.read_csv(drive + 'attribute_labels_colwise.csv').iterrows():         \n",
        "        labels.iloc[row.dropna().astype(int), column_num_labels] = True\n",
        "    #print(labels.info())\n",
        "    \n",
        "    \n",
        "    # split_df stores information about splitting imgs in 3 sets\n",
        "    split_df = pd.read_excel(drive + \"list_eval_partition.xlsx\").set_index('image_name')\n",
        "\n",
        "    test_labels = labels.loc[split_df.loc[split_df.evaluation_status == 'test'].index]\n",
        "    train_val_labels = labels.loc[split_df.loc[split_df.evaluation_status != 'test'].index]\n",
        "\n",
        "    train_val_labels.loc[:, 'is_valid'] = False\n",
        "    train_val_labels.loc[split_df.loc[split_df.evaluation_status == 'val'].index, 'is_valid'] = True\n",
        "    val_index = np.arange(train_val_labels.shape[0])[train_val_labels.is_valid.values]\n",
        "    \n",
        "    base_img_dir = Path('wardrobe_img')\n",
        "\n",
        "    def item_getter(df) :\n",
        "        #print(df.head(), '\\n', df.shape)\n",
        "        ret = (list(map(lambda x : base_img_dir / x, df.index)), df.iloc[:, :-1].values)\n",
        "        #print(ret)\n",
        "        return ret\n",
        "    print('dataloaders')\n",
        "    \n",
        "    dblocks = DataBlock.from_columns(blocks = (ImageBlock, MultiCategoryBlock(encoded = True, vocab = list(labels.columns.values))),\n",
        "                                     get_items = item_getter,\n",
        "                                     splitter = IndexSplitter(val_index),\n",
        "                                     item_tfms = Resize(224, pad_mode = 'zeros'),\n",
        "                                     batch_tfms = Normalize.from_stats([0.485, 0.456, 0.406], [0.229, 0.224, 0.225])\n",
        "                                    )\n",
        "\n",
        "    # del desc, labels, split_df, train_val_labels, val_index\n",
        "    "
      ]
    },
    {
      "cell_type": "markdown",
      "source": [
        "#Loss Function \n",
        "Defining custom loss function which applies weight to classes as we have only 4 labels of 1000 for each data point\n",
        "\n",
        "So we adjust positive and negative classes using weights to prevent negative labels (0 labels) dominate the loss and model prediction"
      ],
      "metadata": {
        "id": "Y7gPXZO5zdi5"
      }
    },
    {
      "cell_type": "code",
      "execution_count": 4,
      "metadata": {
        "colab": {
          "base_uri": "https://localhost:8080/"
        },
        "id": "5uVc7Tc6USD6",
        "outputId": "593693a9-3108-434e-a6c0-c21986feca78"
      },
      "outputs": [
        {
          "output_type": "stream",
          "name": "stdout",
          "text": [
            "cuda:0\n"
          ]
        }
      ],
      "source": [
        "if __name__ == \"__main__\"  :\n",
        "    dls = dblocks.dataloaders(train_val_labels, bs = 64, num_workers = 2)\n",
        "    print(dls.device)\n",
        "    wp = train_val_labels.values.mean()\n",
        "    my_extra_cb = Callback(before_fit = lambda self : self.learn.model.to(device, non_blocking = True))\n",
        "    loss_fn = BCEWithLogitsLossFlat(reduction = 'none')\n",
        "    \n",
        "    wp = (1 - wp) / wp\n",
        "    def my_loss(ypred, ytrue) :\n",
        "        #print(ypred, ytrue)\n",
        "        loss = loss_fn(ypred, ytrue)\n",
        "        loss[ytrue.ravel() == 1] *= wp\n",
        "        return loss.mean() * (1 + 1 / wp) / 2 \n"
      ]
    },
    {
      "cell_type": "code",
      "execution_count": 4,
      "metadata": {
        "id": "zbM-XioTEQK_"
      },
      "outputs": [],
      "source": []
    },
    {
      "cell_type": "markdown",
      "source": [
        "#Training model using ResNet50 architecture"
      ],
      "metadata": {
        "id": "EXF0sMZf0yMx"
      }
    },
    {
      "cell_type": "code",
      "execution_count": null,
      "metadata": {
        "id": "8Hjz-X8mG02l"
      },
      "outputs": [],
      "source": [
        "if __name__ == '__main__' :\n",
        "    learn = vision_learner(dls, resnet50, loss_func = my_loss)\n",
        "    #print(learn.dls.after_batch, learn.dls.device) \n",
        "    learn.fine_tune(1, freeze_epochs = 1)"
      ]
    },
    {
      "cell_type": "code",
      "execution_count": null,
      "metadata": {
        "colab": {
          "base_uri": "https://localhost:8080/",
          "height": 17
        },
        "id": "Ey_ljuRijCbW",
        "outputId": "5650a89c-18cf-451b-f486-6a2d170f40dd"
      },
      "outputs": [
        {
          "data": {
            "text/html": [
              "\n",
              "<style>\n",
              "    /* Turns off some styling */\n",
              "    progress {\n",
              "        /* gets rid of default border in Firefox and Opera. */\n",
              "        border: none;\n",
              "        /* Needs to be in here for Safari polyfill so background images work as expected. */\n",
              "        background-size: auto;\n",
              "    }\n",
              "    .progress-bar-interrupted, .progress-bar-interrupted::-webkit-progress-bar {\n",
              "        background: #F44336;\n",
              "    }\n",
              "</style>\n"
            ],
            "text/plain": [
              "<IPython.core.display.HTML object>"
            ]
          },
          "metadata": {},
          "output_type": "display_data"
        },
        {
          "data": {
            "text/html": [
              ""
            ],
            "text/plain": [
              "<IPython.core.display.HTML object>"
            ]
          },
          "metadata": {},
          "output_type": "display_data"
        }
      ],
      "source": []
    },
    {
      "cell_type": "markdown",
      "source": [
        "#Some metric calculations"
      ],
      "metadata": {
        "id": "qUwt7V1e05cT"
      }
    },
    {
      "cell_type": "code",
      "execution_count": null,
      "metadata": {
        "colab": {
          "base_uri": "https://localhost:8080/"
        },
        "id": "SwoA6swFijEQ",
        "outputId": "1e2cce47-8dc5-45f8-b4bc-8aeed014cde1"
      },
      "outputs": [
        {
          "data": {
            "text/plain": [
              "(#4) ['chic','pleated','sleeveless','v-neck']"
            ]
          },
          "execution_count": 26,
          "metadata": {},
          "output_type": "execute_result"
        }
      ],
      "source": [
        "# dls.vocab[dls.valid_ds[0][1] == 1]"
      ]
    },
    {
      "cell_type": "code",
      "execution_count": null,
      "metadata": {
        "id": "KiebUdb_m4yA"
      },
      "outputs": [],
      "source": [
        "yp = preds[0] >= 0.5\n",
        "y = preds[1] "
      ]
    },
    {
      "cell_type": "code",
      "execution_count": null,
      "metadata": {
        "colab": {
          "base_uri": "https://localhost:8080/"
        },
        "id": "UJB2G8osro5A",
        "outputId": "76717fe6-d093-4b80-8d07-a1c5f3447158"
      },
      "outputs": [
        {
          "data": {
            "text/plain": [
              "TensorMultiCategory(0.9159, dtype=torch.float64)"
            ]
          },
          "execution_count": 28,
          "metadata": {},
          "output_type": "execute_result"
        }
      ],
      "source": [
        "((yp == y).to(float)).mean() "
      ]
    },
    {
      "cell_type": "code",
      "execution_count": null,
      "metadata": {
        "colab": {
          "base_uri": "https://localhost:8080/"
        },
        "id": "f5EBLmBGslLu",
        "outputId": "512a423b-b3f6-4b7f-a3b9-5000fea6b9c9"
      },
      "outputs": [
        {
          "data": {
            "text/plain": [
              "TensorMultiCategory(25.9916)"
            ]
          },
          "execution_count": 34,
          "metadata": {},
          "output_type": "execute_result"
        }
      ],
      "source": [
        "yp.sum() / y.sum()"
      ]
    },
    {
      "cell_type": "markdown",
      "source": [
        "## exporting model"
      ],
      "metadata": {
        "id": "9634x2E_0_qL"
      }
    },
    {
      "cell_type": "code",
      "execution_count": null,
      "metadata": {
        "id": "REf3kvJGtAGA"
      },
      "outputs": [],
      "source": [
        "learn.export(drive + 'models/attr_3_weighted_unfreeze.pkl') "
      ]
    },
    {
      "cell_type": "code",
      "execution_count": null,
      "metadata": {
        "colab": {
          "base_uri": "https://localhost:8080/"
        },
        "id": "smsyTZ15vUN3",
        "outputId": "ba62d346-7508-4462-ecd4-239dec2c26be"
      },
      "outputs": [
        {
          "data": {
            "text/plain": [
              "0.5"
            ]
          },
          "execution_count": 31,
          "metadata": {},
          "output_type": "execute_result"
        }
      ],
      "source": [
        "pd.DataFrame([[1,0],[0,1]]).values.mean()"
      ]
    },
    {
      "cell_type": "code",
      "execution_count": null,
      "metadata": {
        "id": "tNGk2RSqIaJw"
      },
      "outputs": [],
      "source": [
        "from sklearn.metrics import confusion_matrix"
      ]
    },
    {
      "cell_type": "code",
      "execution_count": null,
      "metadata": {
        "colab": {
          "base_uri": "https://localhost:8080/"
        },
        "id": "kR2gKuPrTqmq",
        "outputId": "51dbe2ff-628b-4bb4-d26b-5f408e45e769"
      },
      "outputs": [
        {
          "data": {
            "text/plain": [
              "array([[36527649,  3339741],\n",
              "       [   25602,   107008]])"
            ]
          },
          "execution_count": 33,
          "metadata": {},
          "output_type": "execute_result"
        }
      ],
      "source": [
        "confusion_matrix(y.ravel(), yp.ravel())"
      ]
    },
    {
      "cell_type": "markdown",
      "source": [
        "# Final accuracy of model"
      ],
      "metadata": {
        "id": "JW4UHHse0-c2"
      }
    },
    {
      "cell_type": "code",
      "execution_count": 7,
      "metadata": {
        "id": "36kFDW8XTsO5"
      },
      "outputs": [],
      "source": [
        "from fastai.vision.all import *\n",
        "drive = r'/content/drive/MyDrive/data/wardrobe_helper_data/'\n",
        "# learn = vision_learner(dls, resnet50, loss_func = my_loss) \n",
        "learn = load_learner(drive + 'models/attr_3_weighted_unfreeze.pkl', cpu = False)"
      ]
    },
    {
      "cell_type": "code",
      "execution_count": 8,
      "metadata": {
        "colab": {
          "base_uri": "https://localhost:8080/",
          "height": 34
        },
        "id": "BASsg2eBuvc0",
        "outputId": "2b308da8-2c4f-44b5-c0d2-003645ef5c67"
      },
      "outputs": [
        {
          "output_type": "display_data",
          "data": {
            "text/plain": [
              "<IPython.core.display.HTML object>"
            ],
            "text/html": [
              "\n",
              "<style>\n",
              "    /* Turns off some styling */\n",
              "    progress {\n",
              "        /* gets rid of default border in Firefox and Opera. */\n",
              "        border: none;\n",
              "        /* Needs to be in here for Safari polyfill so background images work as expected. */\n",
              "        background-size: auto;\n",
              "    }\n",
              "    progress:not([value]), progress:not([value])::-webkit-progress-bar {\n",
              "        background: repeating-linear-gradient(45deg, #7e7e7e, #7e7e7e 10px, #5c5c5c 10px, #5c5c5c 20px);\n",
              "    }\n",
              "    .progress-bar-interrupted, .progress-bar-interrupted::-webkit-progress-bar {\n",
              "        background: #F44336;\n",
              "    }\n",
              "</style>\n"
            ]
          },
          "metadata": {}
        },
        {
          "output_type": "display_data",
          "data": {
            "text/plain": [
              "<IPython.core.display.HTML object>"
            ],
            "text/html": []
          },
          "metadata": {}
        },
        {
          "output_type": "stream",
          "name": "stdout",
          "text": [
            "Accuracy of attribute predicter is:  TensorMultiCategory(0.9159, dtype=torch.float64)\n"
          ]
        }
      ],
      "source": [
        "preds, targs = learn.get_preds(dl = dls.valid)[:2]\n",
        "preds = preds >= 0.5\n",
        "\n",
        "def acc(p, y) :\n",
        "  return ((p == y).to(float)).mean() \n",
        "\n",
        "print('Accuracy of attribute predicter is: ', acc(preds, targs))"
      ]
    },
    {
      "cell_type": "code",
      "execution_count": null,
      "metadata": {
        "id": "aTI7f7ZKwo90"
      },
      "outputs": [],
      "source": []
    }
  ],
  "metadata": {
    "colab": {
      "collapsed_sections": [
        "nEuTqgG_yppZ",
        "Y7gPXZO5zdi5",
        "EXF0sMZf0yMx",
        "qUwt7V1e05cT",
        "9634x2E_0_qL"
      ],
      "provenance": []
    },
    "gpuClass": "standard",
    "kernelspec": {
      "display_name": "Python 3",
      "name": "python3"
    },
    "language_info": {
      "name": "python"
    },
    "accelerator": "GPU"
  },
  "nbformat": 4,
  "nbformat_minor": 0
}