{
  "cells": [
    {
      "cell_type": "code",
      "execution_count": null,
      "metadata": {
        "id": "ERugQmFDG0jH"
      },
      "outputs": [],
      "source": [
        "# from zipfile import ZipFile\n",
        "# with ZipFile('/content/drive/MyDrive/data/wardrobe_helper_data/Category and Attribute Prediction Benchmark/Img/img.zip', 'r') as archive:\n",
        "#   archive.extractall('/content/wardrobe_img')"
      ]
    },
    {
      "cell_type": "code",
      "source": [
        "if __name__ == '__main__' :   \n",
        "    from fastai.vision.all import *\n",
        "    # from timeit import default_timer\n",
        "    # import torch\n",
        "    # import torchvision\n",
        "    # from torchvision import transforms\n",
        "    import os, multiprocessing\n",
        "    import pandas as pd\n",
        "\n",
        "# do define multiprocessing related things in this 'if' block\n",
        "\n",
        "    multiprocessing.freeze_support()            # needed for handling multiprocessing \n",
        "    \n",
        "    device = 'cuda' if torch.cuda.is_available() else 'cpu'         # setting up device\n",
        "    print(device)\n",
        "    \n",
        "    drive = r'/content/drive/MyDrive/data/wardrobe_helper_data/'\n",
        "    ###################################################\n",
        "    ########### reading up labels from disk ############\n",
        "    ##################################################\n",
        "    \n",
        "    ## reading file containing attribute names\n",
        "    desc = pd.read_csv(drive + r'Anno_coarse/list_attr_cloth.txt', skiprows = 2, header = None)\n",
        "    desc = desc.iloc[:,0].str.extract('(.*)[ ]{2,}([12345])')\n",
        "    \n",
        "    ## generating boolean dataframe of labels from compressed representation\n",
        "    labels = pd.DataFrame(False,                                                                            # initializing all labels as False\n",
        "                          columns = desc.iloc[:, 0].str.strip().values,                                     # setting column names as attribute names\n",
        "                          index = pd.read_csv(drive + 'attribute_labels_index.csv', header = None).iloc[:, 0])      # setting indexes as img names\n",
        "    \n",
        "    # In 'attribute_labels_colwise.csv' each row 'i' contains list of row numbers\n",
        "    # which will be 'true' in 'labels' df in column 'i'\n",
        "    for column_num_labels, row in pd.read_csv(drive + 'attribute_labels_colwise.csv').iterrows():         \n",
        "        labels.iloc[row.dropna().astype(int), column_num_labels] = True\n",
        "    #print(labels.info())\n",
        "    \n",
        "    \n",
        "    # split_df stores information about splitting imgs in 3 sets\n",
        "    split_df = pd.read_excel(drive + \"list_eval_partition.xlsx\").set_index('image_name')\n",
        "\n",
        "    test_labels = labels.loc[split_df.loc[split_df.evaluation_status == 'test'].index]\n",
        "    train_val_labels = labels.loc[split_df.loc[split_df.evaluation_status != 'test'].index]\n",
        "\n",
        "    train_val_labels.loc[:, 'is_valid'] = False\n",
        "    train_val_labels.loc[split_df.loc[split_df.evaluation_status == 'val'].index, 'is_valid'] = True\n",
        "    val_index = np.arange(train_val_labels.shape[0])[train_val_labels.is_valid.values]\n",
        "    \n",
        "    base_img_dir = Path('wardrobe_img')\n",
        "\n",
        "    def item_getter(df) :\n",
        "        #print(df.head(), '\\n', df.shape)\n",
        "        ret = (list(map(lambda x : base_img_dir / x, df.index)), df.iloc[:, :-1].values)\n",
        "        #print(ret)\n",
        "        return ret\n",
        "    print('dataloaders')\n",
        "    \n",
        "    dblocks = DataBlock.from_columns(blocks = (ImageBlock, MultiCategoryBlock(encoded = True, vocab = list(labels.columns.values))),\n",
        "                                     get_items = item_getter,\n",
        "                                     splitter = IndexSplitter(val_index),\n",
        "                                     item_tfms = Resize(224, pad_mode = 'zeros'),\n",
        "                                     batch_tfms = Normalize.from_stats([0.485, 0.456, 0.406], [0.229, 0.224, 0.225])\n",
        "                                    )\n",
        "\n",
        "    # del desc, labels, split_df, train_val_labels, val_index\n",
        "    "
      ],
      "metadata": {
        "colab": {
          "base_uri": "https://localhost:8080/"
        },
        "id": "RrcVTkHSD_dg",
        "outputId": "c649152f-d4c7-45bd-a494-4ef5eff3dd93"
      },
      "execution_count": null,
      "outputs": [
        {
          "output_type": "stream",
          "name": "stdout",
          "text": [
            "cuda\n",
            "dataloaders\n",
            "cuda:0\n"
          ]
        }
      ]
    },
    {
      "cell_type": "code",
      "source": [
        "if __name__ == \"__main__\"  :\n",
        "    dls = dblocks.dataloaders(train_val_labels, bs = 64, num_workers = 2)\n",
        "    print(dls.device)\n",
        "    wp = train_val_labels.values.mean()\n",
        "    my_extra_cb = Callback(before_fit = lambda self : self.learn.model.to(device, non_blocking = True))\n",
        "    loss_fn = BCEWithLogitsLossFlat(reduction = 'none')\n",
        "    \n",
        "    wp = (1 - wp) / wp\n",
        "    def my_loss(ypred, ytrue) :\n",
        "        #print(ypred, ytrue)\n",
        "        loss = loss_fn(ypred, ytrue)\n",
        "        loss[ytrue.ravel() == 1] *= wp\n",
        "        return loss.mean() * (1 + 1 / wp) / 2 \n"
      ],
      "metadata": {
        "colab": {
          "base_uri": "https://localhost:8080/"
        },
        "id": "5uVc7Tc6USD6",
        "outputId": "f8cb7345-2470-4fef-e084-213febf61f64"
      },
      "execution_count": null,
      "outputs": [
        {
          "output_type": "stream",
          "name": "stdout",
          "text": [
            "cuda:0\n"
          ]
        }
      ]
    },
    {
      "cell_type": "code",
      "source": [],
      "metadata": {
        "id": "zbM-XioTEQK_"
      },
      "execution_count": null,
      "outputs": []
    },
    {
      "cell_type": "code",
      "execution_count": null,
      "metadata": {
        "colab": {
          "base_uri": "https://localhost:8080/",
          "height": 223
        },
        "id": "8Hjz-X8mG02l",
        "outputId": "e0241c1d-8473-4670-8c34-fdf7bd6dc680"
      },
      "outputs": [
        {
          "data": {
            "text/html": [
              "\n",
              "<style>\n",
              "    /* Turns off some styling */\n",
              "    progress {\n",
              "        /* gets rid of default border in Firefox and Opera. */\n",
              "        border: none;\n",
              "        /* Needs to be in here for Safari polyfill so background images work as expected. */\n",
              "        background-size: auto;\n",
              "    }\n",
              "    .progress-bar-interrupted, .progress-bar-interrupted::-webkit-progress-bar {\n",
              "        background: #F44336;\n",
              "    }\n",
              "</style>\n"
            ],
            "text/plain": [
              "<IPython.core.display.HTML object>"
            ]
          },
          "metadata": {},
          "output_type": "display_data"
        },
        {
          "data": {
            "text/html": [
              "\n",
              "    <div>\n",
              "      <progress value='0' class='' max='1' style='width:300px; height:20px; vertical-align: middle;'></progress>\n",
              "      0.00% [0/1 00:00<00:00]\n",
              "    </div>\n",
              "    \n",
              "<table border=\"1\" class=\"dataframe\">\n",
              "  <thead>\n",
              "    <tr style=\"text-align: left;\">\n",
              "      <th>epoch</th>\n",
              "      <th>train_loss</th>\n",
              "      <th>valid_loss</th>\n",
              "      <th>time</th>\n",
              "    </tr>\n",
              "  </thead>\n",
              "  <tbody>\n",
              "  </tbody>\n",
              "</table><p>\n",
              "\n",
              "    <div>\n",
              "      <progress value='1110' class='' max='3269' style='width:300px; height:20px; vertical-align: middle;'></progress>\n",
              "      33.96% [1110/3269 10:42<20:49 0.5484]\n",
              "    </div>\n",
              "    "
            ],
            "text/plain": [
              "<IPython.core.display.HTML object>"
            ]
          },
          "metadata": {},
          "output_type": "display_data"
        },
        {
          "output_type": "display_data",
          "data": {
            "text/plain": [
              "<IPython.core.display.HTML object>"
            ],
            "text/html": [
              "<table border=\"1\" class=\"dataframe\">\n",
              "  <thead>\n",
              "    <tr style=\"text-align: left;\">\n",
              "      <th>epoch</th>\n",
              "      <th>train_loss</th>\n",
              "      <th>valid_loss</th>\n",
              "      <th>time</th>\n",
              "    </tr>\n",
              "  </thead>\n",
              "  <tbody>\n",
              "    <tr>\n",
              "      <td>0</td>\n",
              "      <td>0.365505</td>\n",
              "      <td>0.334037</td>\n",
              "      <td>34:01</td>\n",
              "    </tr>\n",
              "  </tbody>\n",
              "</table>"
            ]
          },
          "metadata": {}
        },
        {
          "output_type": "display_data",
          "data": {
            "text/plain": [
              "<IPython.core.display.HTML object>"
            ],
            "text/html": [
              "\n",
              "<style>\n",
              "    /* Turns off some styling */\n",
              "    progress {\n",
              "        /* gets rid of default border in Firefox and Opera. */\n",
              "        border: none;\n",
              "        /* Needs to be in here for Safari polyfill so background images work as expected. */\n",
              "        background-size: auto;\n",
              "    }\n",
              "    .progress-bar-interrupted, .progress-bar-interrupted::-webkit-progress-bar {\n",
              "        background: #F44336;\n",
              "    }\n",
              "</style>\n"
            ]
          },
          "metadata": {}
        },
        {
          "output_type": "display_data",
          "data": {
            "text/plain": [
              "<IPython.core.display.HTML object>"
            ],
            "text/html": [
              "<table border=\"1\" class=\"dataframe\">\n",
              "  <thead>\n",
              "    <tr style=\"text-align: left;\">\n",
              "      <th>epoch</th>\n",
              "      <th>train_loss</th>\n",
              "      <th>valid_loss</th>\n",
              "      <th>time</th>\n",
              "    </tr>\n",
              "  </thead>\n",
              "  <tbody>\n",
              "    <tr>\n",
              "      <td>0</td>\n",
              "      <td>0.315512</td>\n",
              "      <td>0.295843</td>\n",
              "      <td>44:41</td>\n",
              "    </tr>\n",
              "  </tbody>\n",
              "</table>"
            ]
          },
          "metadata": {}
        }
      ],
      "source": [
        "if __name__ == '__main__' :\n",
        "    learn = vision_learner(dls, resnet50, loss_func = my_loss)\n",
        "    #print(learn.dls.after_batch, learn.dls.device) \n",
        "    learn.fine_tune(1, freeze_epochs = 1)"
      ]
    },
    {
      "cell_type": "code",
      "execution_count": null,
      "metadata": {
        "id": "Ey_ljuRijCbW",
        "colab": {
          "base_uri": "https://localhost:8080/",
          "height": 17
        },
        "outputId": "5650a89c-18cf-451b-f486-6a2d170f40dd"
      },
      "outputs": [
        {
          "output_type": "display_data",
          "data": {
            "text/plain": [
              "<IPython.core.display.HTML object>"
            ],
            "text/html": [
              "\n",
              "<style>\n",
              "    /* Turns off some styling */\n",
              "    progress {\n",
              "        /* gets rid of default border in Firefox and Opera. */\n",
              "        border: none;\n",
              "        /* Needs to be in here for Safari polyfill so background images work as expected. */\n",
              "        background-size: auto;\n",
              "    }\n",
              "    .progress-bar-interrupted, .progress-bar-interrupted::-webkit-progress-bar {\n",
              "        background: #F44336;\n",
              "    }\n",
              "</style>\n"
            ]
          },
          "metadata": {}
        },
        {
          "output_type": "display_data",
          "data": {
            "text/plain": [
              "<IPython.core.display.HTML object>"
            ],
            "text/html": [
              ""
            ]
          },
          "metadata": {}
        }
      ],
      "source": [
        "preds = learn.get_preds(dl = dls.valid) "
      ]
    },
    {
      "cell_type": "code",
      "source": [
        "# dls.vocab[dls.valid_ds[0][1] == 1]"
      ],
      "metadata": {
        "colab": {
          "base_uri": "https://localhost:8080/"
        },
        "id": "SwoA6swFijEQ",
        "outputId": "1e2cce47-8dc5-45f8-b4bc-8aeed014cde1"
      },
      "execution_count": null,
      "outputs": [
        {
          "output_type": "execute_result",
          "data": {
            "text/plain": [
              "(#4) ['chic','pleated','sleeveless','v-neck']"
            ]
          },
          "metadata": {},
          "execution_count": 26
        }
      ]
    },
    {
      "cell_type": "code",
      "source": [
        "yp = preds[0] >= 0.5\n",
        "y = preds[1]"
      ],
      "metadata": {
        "id": "KiebUdb_m4yA"
      },
      "execution_count": null,
      "outputs": []
    },
    {
      "cell_type": "code",
      "source": [
        "((yp == y).to(float)).mean() "
      ],
      "metadata": {
        "colab": {
          "base_uri": "https://localhost:8080/"
        },
        "id": "UJB2G8osro5A",
        "outputId": "76717fe6-d093-4b80-8d07-a1c5f3447158"
      },
      "execution_count": null,
      "outputs": [
        {
          "output_type": "execute_result",
          "data": {
            "text/plain": [
              "TensorMultiCategory(0.9159, dtype=torch.float64)"
            ]
          },
          "metadata": {},
          "execution_count": 28
        }
      ]
    },
    {
      "cell_type": "code",
      "source": [
        "yp.sum() / y.sum()"
      ],
      "metadata": {
        "colab": {
          "base_uri": "https://localhost:8080/"
        },
        "id": "f5EBLmBGslLu",
        "outputId": "512a423b-b3f6-4b7f-a3b9-5000fea6b9c9"
      },
      "execution_count": null,
      "outputs": [
        {
          "output_type": "execute_result",
          "data": {
            "text/plain": [
              "TensorMultiCategory(25.9916)"
            ]
          },
          "metadata": {},
          "execution_count": 34
        }
      ]
    },
    {
      "cell_type": "code",
      "source": [
        "learn.export(drive + 'models/attr_3_weighted_unfreeze.pkl') "
      ],
      "metadata": {
        "id": "REf3kvJGtAGA"
      },
      "execution_count": null,
      "outputs": []
    },
    {
      "cell_type": "code",
      "source": [
        "pd.DataFrame([[1,0],[0,1]]).values.mean()"
      ],
      "metadata": {
        "colab": {
          "base_uri": "https://localhost:8080/"
        },
        "id": "smsyTZ15vUN3",
        "outputId": "ba62d346-7508-4462-ecd4-239dec2c26be"
      },
      "execution_count": null,
      "outputs": [
        {
          "output_type": "execute_result",
          "data": {
            "text/plain": [
              "0.5"
            ]
          },
          "metadata": {},
          "execution_count": 31
        }
      ]
    },
    {
      "cell_type": "code",
      "source": [
        "from sklearn.metrics import confusion_matrix"
      ],
      "metadata": {
        "id": "tNGk2RSqIaJw"
      },
      "execution_count": null,
      "outputs": []
    },
    {
      "cell_type": "code",
      "source": [
        "confusion_matrix(y.ravel(), yp.ravel())"
      ],
      "metadata": {
        "colab": {
          "base_uri": "https://localhost:8080/"
        },
        "id": "kR2gKuPrTqmq",
        "outputId": "51dbe2ff-628b-4bb4-d26b-5f408e45e769"
      },
      "execution_count": null,
      "outputs": [
        {
          "output_type": "execute_result",
          "data": {
            "text/plain": [
              "array([[36527649,  3339741],\n",
              "       [   25602,   107008]])"
            ]
          },
          "metadata": {},
          "execution_count": 33
        }
      ]
    },
    {
      "cell_type": "code",
      "source": [],
      "metadata": {
        "id": "36kFDW8XTsO5"
      },
      "execution_count": null,
      "outputs": []
    }
  ],
  "metadata": {
    "colab": {
      "collapsed_sections": [],
      "provenance": []
    },
    "gpuClass": "standard",
    "kernelspec": {
      "display_name": "Python 3",
      "name": "python3"
    },
    "language_info": {
      "name": "python"
    }
  },
  "nbformat": 4,
  "nbformat_minor": 0
}